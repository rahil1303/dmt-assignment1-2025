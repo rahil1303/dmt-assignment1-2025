{
  "cells": [
    {
      "cell_type": "markdown",
      "metadata": {},
      "source": [
        "##### Choosing a setup"
      ]
    },
    {
      "cell_type": "markdown",
      "metadata": {
        "colab_type": "text",
        "id": "view-in-github"
      },
      "source": [
        "<a href=\"https://colab.research.google.com/github/rahil1303/dmt-assignment1-2025/blob/main/notebooks/Iteration_1_eda.ipynb\" target=\"_parent\"><img src=\"https://colab.research.google.com/assets/colab-badge.svg\" alt=\"Open In Colab\"/></a>"
      ]
    },
    {
      "cell_type": "code",
      "execution_count": 46,
      "metadata": {},
      "outputs": [],
      "source": [
        "import matplotlib.pyplot as plt\n",
        "import seaborn as sns\n",
        "import re\n",
        "import os\n",
        "import numpy as np\n",
        "from datetime import datetime"
      ]
    },
    {
      "cell_type": "code",
      "execution_count": 6,
      "metadata": {
        "colab": {
          "base_uri": "https://localhost:8080/"
        },
        "id": "0BKgscQQKUrI",
        "outputId": "dccea1ae-eaa6-437b-ff33-c575d0a1df6c"
      },
      "outputs": [
        {
          "data": {
            "text/plain": [
              "'/home/ivanka/data-mining/dmt-assignment1-2025'"
            ]
          },
          "execution_count": 6,
          "metadata": {},
          "output_type": "execute_result"
        }
      ],
      "source": [
        "# Step 1: Clone the repo\n",
        "#!git clone https://github.com/rahil1303/dmt-assignment1-2025.git\n",
        "\n",
        "# Step 2: Change directory to your repo\n",
        "#%cd dmt-assignment1-2025\n",
        "\n",
        "# Step 3: Install dependencies (optional)\n",
        "#!pip install -r requirements.txt\n",
        "\n",
        "# Using locally:\n",
        "#os.chdir('dmt-assignment1-2025')\n",
        "os.chdir('..')\n",
        "os.getcwd()"
      ]
    },
    {
      "cell_type": "code",
      "execution_count": 47,
      "metadata": {
        "id": "mYrJZid8MiEp"
      },
      "outputs": [],
      "source": [
        "import pandas as pd\n",
        "df = pd.read_excel(\"data/ODI-2025.xlsx\")"
      ]
    },
    {
      "cell_type": "code",
      "execution_count": 48,
      "metadata": {},
      "outputs": [
        {
          "name": "stdout",
          "output_type": "stream",
          "text": [
            "Number of duplicate rows: 0\n"
          ]
        }
      ],
      "source": [
        "# Check for duplicate rows\n",
        "duplicates = df.duplicated().sum()\n",
        "print(f\"Number of duplicate rows: {duplicates}\")"
      ]
    },
    {
      "cell_type": "markdown",
      "metadata": {},
      "source": [
        "#### Step 1: Rename columns for clarity \n",
        "The original dataset had long and inconsistent column names, including survey question text. To make the dataset easier to work with and improve readability in our code, I renamed the columns to concise names."
      ]
    },
    {
      "cell_type": "code",
      "execution_count": 8,
      "metadata": {},
      "outputs": [],
      "source": [
        "# rename columns\n",
        "df = df.rename(columns={\n",
        "    'Tijdstempel':'TIMESTAMP',\n",
        "    'What programme are you in?': 'PROGRAM',\n",
        "    'Have you taken a course on machine learning?': 'ML_COURSE',\n",
        "    'Have you taken a course on information retrieval?': 'IR_COURSE',\n",
        "    'Have you taken a course on statistics?': 'STAT_COURSE',\n",
        "    'Have you taken a course on databases?': 'DB_COURSE',\n",
        "    'What is your gender?':'GENDER',\n",
        "    'I have used ChatGPT to help me with some of my study assignments ': 'CHATGPT_USAGE',\n",
        "    'When is your birthday (date)?': 'BIRTHDAY',\n",
        "    'How many students do you estimate there are in the room?': 'ROOM_ESTIMATE',\n",
        "    'What is your stress level (0-100)?': 'STRESS_LEVEL',\n",
        "    'How many hours per week do you do sports (in whole hours)? ': 'SPORTS_HOURS',\n",
        "    'Give a random number': 'RANDOM_NUMBER',\n",
        "    'Time you went to bed Yesterday': 'BEDTIME',\n",
        "    'What makes a good day for you (1)?': 'GOOD_DAY_1',\n",
        "    'What makes a good day for you (2)?': 'GOOD_DAY_2'\n",
        "})"
      ]
    },
    {
      "cell_type": "code",
      "execution_count": 9,
      "metadata": {},
      "outputs": [
        {
          "data": {
            "text/html": [
              "<div>\n",
              "<style scoped>\n",
              "    .dataframe tbody tr th:only-of-type {\n",
              "        vertical-align: middle;\n",
              "    }\n",
              "\n",
              "    .dataframe tbody tr th {\n",
              "        vertical-align: top;\n",
              "    }\n",
              "\n",
              "    .dataframe thead th {\n",
              "        text-align: right;\n",
              "    }\n",
              "</style>\n",
              "<table border=\"1\" class=\"dataframe\">\n",
              "  <thead>\n",
              "    <tr style=\"text-align: right;\">\n",
              "      <th></th>\n",
              "      <th>TIMESTAMP</th>\n",
              "      <th>PROGRAM</th>\n",
              "      <th>ML_COURSE</th>\n",
              "      <th>IR_COURSE</th>\n",
              "      <th>STAT_COURSE</th>\n",
              "      <th>DB_COURSE</th>\n",
              "      <th>GENDER</th>\n",
              "      <th>CHATGPT_USAGE</th>\n",
              "      <th>BIRTHDAY</th>\n",
              "      <th>ROOM_ESTIMATE</th>\n",
              "      <th>STRESS_LEVEL</th>\n",
              "      <th>SPORTS_HOURS</th>\n",
              "      <th>RANDOM_NUMBER</th>\n",
              "      <th>BEDTIME</th>\n",
              "      <th>GOOD_DAY_1</th>\n",
              "      <th>GOOD_DAY_2</th>\n",
              "    </tr>\n",
              "  </thead>\n",
              "  <tbody>\n",
              "    <tr>\n",
              "      <th>0</th>\n",
              "      <td>2025-04-01 12:17:06.560</td>\n",
              "      <td>MSc Artificial Intelligence</td>\n",
              "      <td>yes</td>\n",
              "      <td>unknown</td>\n",
              "      <td>mu</td>\n",
              "      <td>ja</td>\n",
              "      <td>male</td>\n",
              "      <td>yes</td>\n",
              "      <td>01-01-1888</td>\n",
              "      <td>400</td>\n",
              "      <td>78</td>\n",
              "      <td>0</td>\n",
              "      <td>928393</td>\n",
              "      <td>00:00</td>\n",
              "      <td>Food</td>\n",
              "      <td>Travel</td>\n",
              "    </tr>\n",
              "    <tr>\n",
              "      <th>1</th>\n",
              "      <td>2025-04-01 12:17:14.118</td>\n",
              "      <td>Artificial Intelligence</td>\n",
              "      <td>yes</td>\n",
              "      <td>1</td>\n",
              "      <td>sigma</td>\n",
              "      <td>ja</td>\n",
              "      <td>female</td>\n",
              "      <td>yes</td>\n",
              "      <td>31/01/2002</td>\n",
              "      <td>321</td>\n",
              "      <td>1000</td>\n",
              "      <td>2</td>\n",
              "      <td>31416</td>\n",
              "      <td>12:30</td>\n",
              "      <td>sun</td>\n",
              "      <td>coffee</td>\n",
              "    </tr>\n",
              "    <tr>\n",
              "      <th>2</th>\n",
              "      <td>2025-04-01 12:17:16.917</td>\n",
              "      <td>Econometrics</td>\n",
              "      <td>yes</td>\n",
              "      <td>1</td>\n",
              "      <td>mu</td>\n",
              "      <td>ja</td>\n",
              "      <td>male</td>\n",
              "      <td>not willing to say</td>\n",
              "      <td>September</td>\n",
              "      <td>200</td>\n",
              "      <td>101</td>\n",
              "      <td>4</td>\n",
              "      <td>5</td>\n",
              "      <td>0:30</td>\n",
              "      <td>Zonnetje</td>\n",
              "      <td>Aperol</td>\n",
              "    </tr>\n",
              "    <tr>\n",
              "      <th>3</th>\n",
              "      <td>2025-04-01 12:17:20.718</td>\n",
              "      <td>Econometrics - Data Science</td>\n",
              "      <td>yes</td>\n",
              "      <td>0</td>\n",
              "      <td>mu</td>\n",
              "      <td>nee</td>\n",
              "      <td>male</td>\n",
              "      <td>yes</td>\n",
              "      <td>17/10/2003</td>\n",
              "      <td>350</td>\n",
              "      <td>60</td>\n",
              "      <td>6</td>\n",
              "      <td>37</td>\n",
              "      <td>23:00</td>\n",
              "      <td>Sun</td>\n",
              "      <td>Sun</td>\n",
              "    </tr>\n",
              "    <tr>\n",
              "      <th>4</th>\n",
              "      <td>2025-04-01 12:17:23.836</td>\n",
              "      <td>Bioinformatics’s &amp; Systems Biology</td>\n",
              "      <td>yes</td>\n",
              "      <td>1</td>\n",
              "      <td>mu</td>\n",
              "      <td>ja</td>\n",
              "      <td>male</td>\n",
              "      <td>yes</td>\n",
              "      <td>19/04/2000</td>\n",
              "      <td>500</td>\n",
              "      <td>50</td>\n",
              "      <td>8</td>\n",
              "      <td>1</td>\n",
              "      <td>12</td>\n",
              "      <td>-</td>\n",
              "      <td>-</td>\n",
              "    </tr>\n",
              "  </tbody>\n",
              "</table>\n",
              "</div>"
            ],
            "text/plain": [
              "                TIMESTAMP                             PROGRAM ML_COURSE  \\\n",
              "0 2025-04-01 12:17:06.560         MSc Artificial Intelligence       yes   \n",
              "1 2025-04-01 12:17:14.118            Artificial Intelligence        yes   \n",
              "2 2025-04-01 12:17:16.917                        Econometrics       yes   \n",
              "3 2025-04-01 12:17:20.718         Econometrics - Data Science       yes   \n",
              "4 2025-04-01 12:17:23.836  Bioinformatics’s & Systems Biology       yes   \n",
              "\n",
              "  IR_COURSE STAT_COURSE DB_COURSE  GENDER       CHATGPT_USAGE    BIRTHDAY  \\\n",
              "0   unknown          mu        ja    male                 yes  01-01-1888   \n",
              "1         1       sigma        ja  female                 yes  31/01/2002   \n",
              "2         1          mu        ja    male  not willing to say  September    \n",
              "3         0          mu       nee    male                 yes  17/10/2003   \n",
              "4         1          mu        ja    male                 yes  19/04/2000   \n",
              "\n",
              "  ROOM_ESTIMATE STRESS_LEVEL SPORTS_HOURS RANDOM_NUMBER BEDTIME GOOD_DAY_1  \\\n",
              "0           400           78            0        928393   00:00       Food   \n",
              "1           321         1000            2         31416   12:30        sun   \n",
              "2           200          101            4             5    0:30   Zonnetje   \n",
              "3           350           60            6            37   23:00        Sun   \n",
              "4           500           50            8             1      12          -   \n",
              "\n",
              "  GOOD_DAY_2  \n",
              "0     Travel  \n",
              "1     coffee  \n",
              "2     Aperol  \n",
              "3        Sun  \n",
              "4          -  "
            ]
          },
          "execution_count": 9,
          "metadata": {},
          "output_type": "execute_result"
        }
      ],
      "source": [
        "df.head()"
      ]
    },
    {
      "cell_type": "markdown",
      "metadata": {},
      "source": [
        "##### Step 2: Standardizing program names"
      ]
    },
    {
      "cell_type": "code",
      "execution_count": 10,
      "metadata": {},
      "outputs": [],
      "source": [
        "# Clean and categorize the PROGRAM entries\n",
        "def standardize_program(program):\n",
        "    if pd.isna(program):\n",
        "        return program\n",
        "\n",
        "    program = str(program).lower()\n",
        "\n",
        "    if re.search(r'\\b(artificial|ai|intelligence)\\b', program):\n",
        "        return 'Artificial Intelligence'\n",
        "    elif re.search(r'\\b(computer science|cs|security|big|green)\\b', program):\n",
        "        return 'Computer Science'\n",
        "    elif re.search(r'\\bcomputational science\\b', program):\n",
        "        return 'Computational Science'\n",
        "    elif re.search(r'\\beconometrics\\b', program):\n",
        "        return 'Econometrics and Operations Research'\n",
        "    elif re.search(r'\\b(bioinformatics|bioinfomatics|biosb)\\b', program):\n",
        "        return 'Bioinformatics and Systems Biology'\n",
        "    elif re.search(r'\\bbusiness\\b', program):\n",
        "        return 'Business Analytics'\n",
        "    elif re.search(r'\\bfinance\\b', program):\n",
        "        return 'Finance and Technology'\n",
        "    elif re.search(r'\\bhuman|humanities\\b', program):\n",
        "        return 'Humanities Research'\n",
        "    elif re.search(r'\\bhealth\\b', program):\n",
        "        return 'Health Sciences'\n",
        "    elif re.search(r'\\bbiomedical\\b', program):\n",
        "        return 'Biomedical Sciences'\n",
        "    elif re.search(r'\\bfintech\\b', program):\n",
        "        return 'Fintech and Regulation'\n",
        "    elif program in [\n",
        "        \"npn\", \"comp sci\", \"eor\", \"master\", \"ba\"\n",
        "    ]:\n",
        "        return 'OTHER'\n",
        "    else:\n",
        "        return program.title()  # optional: title case for readability\n",
        "\n",
        "# Apply once\n",
        "df['PROGRAM'] = df['PROGRAM'].apply(standardize_program)\n"
      ]
    },
    {
      "cell_type": "code",
      "execution_count": 11,
      "metadata": {},
      "outputs": [
        {
          "data": {
            "text/plain": [
              "PROGRAM\n",
              "Artificial Intelligence                                  100\n",
              "Computer Science                                          50\n",
              "Econometrics and Operations Research                      23\n",
              "Bioinformatics and Systems Biology                        20\n",
              "Computational Science                                     17\n",
              "Business Analytics                                        16\n",
              "Finance and Technology                                     6\n",
              "OTHER                                                      5\n",
              "Humanities Research                                        3\n",
              "Health Sciences                                            1\n",
              "Mathematics                                                1\n",
              "Biomedical Sciences                                        1\n",
              "Fintech and Regulation                                     1\n",
              "B-123456789():;,.?-€/&@„_<|>#,{%^*+=•£$$< \\N\\+2332‘Mm      1\n",
              "Name: count, dtype: int64"
            ]
          },
          "execution_count": 11,
          "metadata": {},
          "output_type": "execute_result"
        }
      ],
      "source": [
        "df[\"PROGRAM\"].value_counts()"
      ]
    },
    {
      "cell_type": "markdown",
      "metadata": {},
      "source": [
        "<small>**Note:** There is one entry in the PROGRAM column that appears to be corrupted. The row may still contain useful responses in other columns. For now, this instance is retained and categorized under OTHER to preserve potentially valuable information."
      ]
    },
    {
      "cell_type": "code",
      "execution_count": 12,
      "metadata": {},
      "outputs": [],
      "source": [
        "df.loc[df.tail(1).index, 'PROGRAM'] = 'OTHER'  # For the last entry"
      ]
    },
    {
      "cell_type": "code",
      "execution_count": 13,
      "metadata": {},
      "outputs": [
        {
          "data": {
            "text/html": [
              "<div>\n",
              "<style scoped>\n",
              "    .dataframe tbody tr th:only-of-type {\n",
              "        vertical-align: middle;\n",
              "    }\n",
              "\n",
              "    .dataframe tbody tr th {\n",
              "        vertical-align: top;\n",
              "    }\n",
              "\n",
              "    .dataframe thead th {\n",
              "        text-align: right;\n",
              "    }\n",
              "</style>\n",
              "<table border=\"1\" class=\"dataframe\">\n",
              "  <thead>\n",
              "    <tr style=\"text-align: right;\">\n",
              "      <th></th>\n",
              "      <th>TIMESTAMP</th>\n",
              "      <th>PROGRAM</th>\n",
              "      <th>ML_COURSE</th>\n",
              "      <th>IR_COURSE</th>\n",
              "      <th>STAT_COURSE</th>\n",
              "      <th>DB_COURSE</th>\n",
              "      <th>GENDER</th>\n",
              "      <th>CHATGPT_USAGE</th>\n",
              "      <th>BIRTHDAY</th>\n",
              "      <th>ROOM_ESTIMATE</th>\n",
              "      <th>STRESS_LEVEL</th>\n",
              "      <th>SPORTS_HOURS</th>\n",
              "      <th>RANDOM_NUMBER</th>\n",
              "      <th>BEDTIME</th>\n",
              "      <th>GOOD_DAY_1</th>\n",
              "      <th>GOOD_DAY_2</th>\n",
              "    </tr>\n",
              "  </thead>\n",
              "  <tbody>\n",
              "    <tr>\n",
              "      <th>244</th>\n",
              "      <td>2025-04-01 12:29:46.856</td>\n",
              "      <td>OTHER</td>\n",
              "      <td>unknown</td>\n",
              "      <td>0</td>\n",
              "      <td>sigma</td>\n",
              "      <td>nee</td>\n",
              "      <td>intersex</td>\n",
              "      <td>no</td>\n",
              "      <td>/U+200B/-1/-0/-0.0f/-0,0d Long int 12-0/:0;</td>\n",
              "      <td>-1</td>\n",
              "      <td>2147483649999999999</td>\n",
              "      <td>2149483649</td>\n",
              "      <td>9999999999999999999998899888888888777778889999...</td>\n",
              "      <td>0 AD</td>\n",
              "      <td>()€€€€&amp; ../rm -rf ~/* hdhdhdh</td>\n",
              "      <td>Alcohol</td>\n",
              "    </tr>\n",
              "  </tbody>\n",
              "</table>\n",
              "</div>"
            ],
            "text/plain": [
              "                  TIMESTAMP PROGRAM ML_COURSE IR_COURSE STAT_COURSE DB_COURSE  \\\n",
              "244 2025-04-01 12:29:46.856   OTHER   unknown         0       sigma       nee   \n",
              "\n",
              "       GENDER CHATGPT_USAGE                                     BIRTHDAY  \\\n",
              "244  intersex            no  /U+200B/-1/-0/-0.0f/-0,0d Long int 12-0/:0;   \n",
              "\n",
              "    ROOM_ESTIMATE         STRESS_LEVEL SPORTS_HOURS  \\\n",
              "244            -1  2147483649999999999   2149483649   \n",
              "\n",
              "                                         RANDOM_NUMBER BEDTIME  \\\n",
              "244  9999999999999999999998899888888888777778889999...   0 AD    \n",
              "\n",
              "                         GOOD_DAY_1 GOOD_DAY_2  \n",
              "244  ()€€€€& ../rm -rf ~/* hdhdhdh     Alcohol  "
            ]
          },
          "execution_count": 13,
          "metadata": {},
          "output_type": "execute_result"
        }
      ],
      "source": [
        "df.tail(1)"
      ]
    },
    {
      "cell_type": "code",
      "execution_count": 14,
      "metadata": {},
      "outputs": [
        {
          "data": {
            "text/plain": [
              "PROGRAM\n",
              "Artificial Intelligence                 100\n",
              "Computer Science                         50\n",
              "Econometrics and Operations Research     23\n",
              "Bioinformatics and Systems Biology       20\n",
              "Computational Science                    17\n",
              "Business Analytics                       16\n",
              "OTHER                                     6\n",
              "Finance and Technology                    6\n",
              "Humanities Research                       3\n",
              "Health Sciences                           1\n",
              "Mathematics                               1\n",
              "Biomedical Sciences                       1\n",
              "Fintech and Regulation                    1\n",
              "Name: count, dtype: int64"
            ]
          },
          "execution_count": 14,
          "metadata": {},
          "output_type": "execute_result"
        }
      ],
      "source": [
        "df['PROGRAM'].value_counts()"
      ]
    },
    {
      "cell_type": "markdown",
      "metadata": {},
      "source": [
        "PROBLEM:"
      ]
    },
    {
      "cell_type": "markdown",
      "metadata": {},
      "source": [
        "<small> There are corrupted values in the last instance, under `BIRTHDAY` and `GOOD_DAY_1`"
      ]
    },
    {
      "cell_type": "markdown",
      "metadata": {},
      "source": [
        "##### STEP 3: creating numerical values for courses"
      ]
    },
    {
      "cell_type": "markdown",
      "metadata": {},
      "source": [
        "<small> Categorical values to numerical values for the following columns:\n",
        "- **ML_COURSE**: `'yes'` → 1, `'no'` → 0, `'unknown'` → NaN\n",
        "- **IR_COURSE**: `1` → 1, `0` → 0, `'unknown'` → NaN\n",
        "- **DB_COURSE**: `'ja'` → 1, `'nee'` → 0, `'unknown'` → NaN\n",
        "- **CHATGPT_USAGE**: `'yes'` → 1, `'no'` → 0, `'unknown'` → NaN\n",
        "\n",
        "These mappings are stored in new columns (`_NUM`) as nullable integers (`Int64`)."
      ]
    },
    {
      "cell_type": "code",
      "execution_count": 15,
      "metadata": {},
      "outputs": [],
      "source": [
        "# Mapping dictionary for each column and their corresponding transformations\n",
        "mapping_dict = {\n",
        "    'ML_COURSE': {'yes': 1, 'no': 0, 'unknown': np.nan},\n",
        "    'IR_COURSE': {1: 1, 0: 0, 'unknown': np.nan},\n",
        "    'DB_COURSE': {'ja': 1, 'nee': 0, 'unknown': np.nan},\n",
        "    'CHATGPT_USAGE': {'yes': 1, 'no': 0, 'unknown': np.nan}\n",
        "}\n",
        "\n",
        "# Apply mappings and convert to 'Int64' for numerical columns where applicable\n",
        "df['ML_COURSE_NUM'] = df['ML_COURSE'].map(mapping_dict['ML_COURSE']).astype('Int64')\n",
        "df['IR_COURSE_NUM'] = df['IR_COURSE'].map(mapping_dict['IR_COURSE']).astype('Int64')\n",
        "df['DB_COURSE_NUM'] = df['DB_COURSE'].map(mapping_dict['DB_COURSE']).astype('Int64')\n",
        "df['CHATGPT_USAGE_NUM'] = df['CHATGPT_USAGE'].map(mapping_dict['CHATGPT_USAGE']).astype('Int64')"
      ]
    },
    {
      "cell_type": "code",
      "execution_count": 16,
      "metadata": {},
      "outputs": [
        {
          "data": {
            "text/html": [
              "<div>\n",
              "<style scoped>\n",
              "    .dataframe tbody tr th:only-of-type {\n",
              "        vertical-align: middle;\n",
              "    }\n",
              "\n",
              "    .dataframe tbody tr th {\n",
              "        vertical-align: top;\n",
              "    }\n",
              "\n",
              "    .dataframe thead th {\n",
              "        text-align: right;\n",
              "    }\n",
              "</style>\n",
              "<table border=\"1\" class=\"dataframe\">\n",
              "  <thead>\n",
              "    <tr style=\"text-align: right;\">\n",
              "      <th></th>\n",
              "      <th>TIMESTAMP</th>\n",
              "      <th>PROGRAM</th>\n",
              "      <th>ML_COURSE</th>\n",
              "      <th>IR_COURSE</th>\n",
              "      <th>STAT_COURSE</th>\n",
              "      <th>DB_COURSE</th>\n",
              "      <th>GENDER</th>\n",
              "      <th>CHATGPT_USAGE</th>\n",
              "      <th>BIRTHDAY</th>\n",
              "      <th>ROOM_ESTIMATE</th>\n",
              "      <th>STRESS_LEVEL</th>\n",
              "      <th>SPORTS_HOURS</th>\n",
              "      <th>RANDOM_NUMBER</th>\n",
              "      <th>BEDTIME</th>\n",
              "      <th>GOOD_DAY_1</th>\n",
              "      <th>GOOD_DAY_2</th>\n",
              "      <th>ML_COURSE_NUM</th>\n",
              "      <th>IR_COURSE_NUM</th>\n",
              "      <th>DB_COURSE_NUM</th>\n",
              "      <th>CHATGPT_USAGE_NUM</th>\n",
              "    </tr>\n",
              "  </thead>\n",
              "  <tbody>\n",
              "    <tr>\n",
              "      <th>0</th>\n",
              "      <td>2025-04-01 12:17:06.560</td>\n",
              "      <td>Artificial Intelligence</td>\n",
              "      <td>yes</td>\n",
              "      <td>unknown</td>\n",
              "      <td>mu</td>\n",
              "      <td>ja</td>\n",
              "      <td>male</td>\n",
              "      <td>yes</td>\n",
              "      <td>01-01-1888</td>\n",
              "      <td>400</td>\n",
              "      <td>78</td>\n",
              "      <td>0</td>\n",
              "      <td>928393</td>\n",
              "      <td>00:00</td>\n",
              "      <td>Food</td>\n",
              "      <td>Travel</td>\n",
              "      <td>1</td>\n",
              "      <td>&lt;NA&gt;</td>\n",
              "      <td>1</td>\n",
              "      <td>1</td>\n",
              "    </tr>\n",
              "    <tr>\n",
              "      <th>1</th>\n",
              "      <td>2025-04-01 12:17:14.118</td>\n",
              "      <td>Artificial Intelligence</td>\n",
              "      <td>yes</td>\n",
              "      <td>1</td>\n",
              "      <td>sigma</td>\n",
              "      <td>ja</td>\n",
              "      <td>female</td>\n",
              "      <td>yes</td>\n",
              "      <td>31/01/2002</td>\n",
              "      <td>321</td>\n",
              "      <td>1000</td>\n",
              "      <td>2</td>\n",
              "      <td>31416</td>\n",
              "      <td>12:30</td>\n",
              "      <td>sun</td>\n",
              "      <td>coffee</td>\n",
              "      <td>1</td>\n",
              "      <td>1</td>\n",
              "      <td>1</td>\n",
              "      <td>1</td>\n",
              "    </tr>\n",
              "    <tr>\n",
              "      <th>2</th>\n",
              "      <td>2025-04-01 12:17:16.917</td>\n",
              "      <td>Econometrics and Operations Research</td>\n",
              "      <td>yes</td>\n",
              "      <td>1</td>\n",
              "      <td>mu</td>\n",
              "      <td>ja</td>\n",
              "      <td>male</td>\n",
              "      <td>not willing to say</td>\n",
              "      <td>September</td>\n",
              "      <td>200</td>\n",
              "      <td>101</td>\n",
              "      <td>4</td>\n",
              "      <td>5</td>\n",
              "      <td>0:30</td>\n",
              "      <td>Zonnetje</td>\n",
              "      <td>Aperol</td>\n",
              "      <td>1</td>\n",
              "      <td>1</td>\n",
              "      <td>1</td>\n",
              "      <td>&lt;NA&gt;</td>\n",
              "    </tr>\n",
              "    <tr>\n",
              "      <th>3</th>\n",
              "      <td>2025-04-01 12:17:20.718</td>\n",
              "      <td>Econometrics and Operations Research</td>\n",
              "      <td>yes</td>\n",
              "      <td>0</td>\n",
              "      <td>mu</td>\n",
              "      <td>nee</td>\n",
              "      <td>male</td>\n",
              "      <td>yes</td>\n",
              "      <td>17/10/2003</td>\n",
              "      <td>350</td>\n",
              "      <td>60</td>\n",
              "      <td>6</td>\n",
              "      <td>37</td>\n",
              "      <td>23:00</td>\n",
              "      <td>Sun</td>\n",
              "      <td>Sun</td>\n",
              "      <td>1</td>\n",
              "      <td>0</td>\n",
              "      <td>0</td>\n",
              "      <td>1</td>\n",
              "    </tr>\n",
              "    <tr>\n",
              "      <th>4</th>\n",
              "      <td>2025-04-01 12:17:23.836</td>\n",
              "      <td>Bioinformatics and Systems Biology</td>\n",
              "      <td>yes</td>\n",
              "      <td>1</td>\n",
              "      <td>mu</td>\n",
              "      <td>ja</td>\n",
              "      <td>male</td>\n",
              "      <td>yes</td>\n",
              "      <td>19/04/2000</td>\n",
              "      <td>500</td>\n",
              "      <td>50</td>\n",
              "      <td>8</td>\n",
              "      <td>1</td>\n",
              "      <td>12</td>\n",
              "      <td>-</td>\n",
              "      <td>-</td>\n",
              "      <td>1</td>\n",
              "      <td>1</td>\n",
              "      <td>1</td>\n",
              "      <td>1</td>\n",
              "    </tr>\n",
              "  </tbody>\n",
              "</table>\n",
              "</div>"
            ],
            "text/plain": [
              "                TIMESTAMP                               PROGRAM ML_COURSE  \\\n",
              "0 2025-04-01 12:17:06.560               Artificial Intelligence       yes   \n",
              "1 2025-04-01 12:17:14.118               Artificial Intelligence       yes   \n",
              "2 2025-04-01 12:17:16.917  Econometrics and Operations Research       yes   \n",
              "3 2025-04-01 12:17:20.718  Econometrics and Operations Research       yes   \n",
              "4 2025-04-01 12:17:23.836    Bioinformatics and Systems Biology       yes   \n",
              "\n",
              "  IR_COURSE STAT_COURSE DB_COURSE  GENDER       CHATGPT_USAGE    BIRTHDAY  \\\n",
              "0   unknown          mu        ja    male                 yes  01-01-1888   \n",
              "1         1       sigma        ja  female                 yes  31/01/2002   \n",
              "2         1          mu        ja    male  not willing to say  September    \n",
              "3         0          mu       nee    male                 yes  17/10/2003   \n",
              "4         1          mu        ja    male                 yes  19/04/2000   \n",
              "\n",
              "  ROOM_ESTIMATE STRESS_LEVEL SPORTS_HOURS RANDOM_NUMBER BEDTIME GOOD_DAY_1  \\\n",
              "0           400           78            0        928393   00:00       Food   \n",
              "1           321         1000            2         31416   12:30        sun   \n",
              "2           200          101            4             5    0:30   Zonnetje   \n",
              "3           350           60            6            37   23:00        Sun   \n",
              "4           500           50            8             1      12          -   \n",
              "\n",
              "  GOOD_DAY_2  ML_COURSE_NUM  IR_COURSE_NUM  DB_COURSE_NUM  CHATGPT_USAGE_NUM  \n",
              "0     Travel              1           <NA>              1                  1  \n",
              "1     coffee              1              1              1                  1  \n",
              "2     Aperol              1              1              1               <NA>  \n",
              "3        Sun              1              0              0                  1  \n",
              "4          -              1              1              1                  1  "
            ]
          },
          "execution_count": 16,
          "metadata": {},
          "output_type": "execute_result"
        }
      ],
      "source": [
        "df.head()"
      ]
    },
    {
      "cell_type": "markdown",
      "metadata": {},
      "source": [
        "##### Step 4: categorizing gender"
      ]
    },
    {
      "cell_type": "code",
      "execution_count": 17,
      "metadata": {},
      "outputs": [
        {
          "data": {
            "text/plain": [
              "GENDER\n",
              "male                     137\n",
              "female                    89\n",
              "not willing to answer      9\n",
              "gender fluid               4\n",
              "intersex                   4\n",
              "non-binary                 1\n",
              "other                      1\n",
              "Name: count, dtype: int64"
            ]
          },
          "execution_count": 17,
          "metadata": {},
          "output_type": "execute_result"
        }
      ],
      "source": [
        "df[\"GENDER\"].value_counts()"
      ]
    },
    {
      "cell_type": "markdown",
      "metadata": {},
      "source": [
        "<small> The `categorize_gender` function maps known gender values (`'male'`, `'female'`, `'not willing to answer'`) directly, while grouping all other values into the category `'gender_non_conforming'`. *Reasons: reducing the number of groups, making less-represented genders more visible, and promoting pseudonymization*"
      ]
    },
    {
      "cell_type": "code",
      "execution_count": 18,
      "metadata": {},
      "outputs": [],
      "source": [
        "def categorize_gender(value):\n",
        "    # Direct mapping for known values\n",
        "    gender_map = {\n",
        "        'male': 'male',\n",
        "        'female': 'female',\n",
        "        'not willing to answer': 'unknown'\n",
        "    }\n",
        "    \n",
        "    # Apply map for known values, otherwise classify as 'gender_non_conforming'\n",
        "    return gender_map.get(value, 'gender_non_conforming')\n",
        "\n",
        "# Apply to the 'GENDER' column and save in 'GENDER_CATEGORIZED'\n",
        "df['GENDER_CATEGORIZED'] = df['GENDER'].apply(categorize_gender)"
      ]
    },
    {
      "cell_type": "code",
      "execution_count": 19,
      "metadata": {},
      "outputs": [
        {
          "data": {
            "text/plain": [
              "GENDER_CATEGORIZED\n",
              "male                     137\n",
              "female                    89\n",
              "gender_non_conforming     10\n",
              "unknown                    9\n",
              "Name: count, dtype: int64"
            ]
          },
          "execution_count": 19,
          "metadata": {},
          "output_type": "execute_result"
        }
      ],
      "source": [
        "df[\"GENDER_CATEGORIZED\"].value_counts()"
      ]
    },
    {
      "cell_type": "markdown",
      "metadata": {},
      "source": [
        "#### STEP 5: room estimate"
      ]
    },
    {
      "cell_type": "code",
      "execution_count": 20,
      "metadata": {},
      "outputs": [
        {
          "data": {
            "text/plain": [
              "array([400, 321, 200, 350, 500, 467, 250, 345, 300, 100, 550, '180-200',\n",
              "       456, '20*5*5', 487, 490, 450, 600, 320, 150, 375, 187, 80, 220,\n",
              "       430, 380, 5, 330, 385, 390, 195, 234, 480, 291, 420, 289, 70000,\n",
              "       425, 287, 483, 'approx 300', 240, 357, 297, 366, 123, '300ish?',\n",
              "       125, 378, 'Around 200', 280, 230, 118, 'Idk', 460, 340, 384, 9000,\n",
              "       311, 253, -9999, 180, 458, 210, 10000, 387, 520, -3, -1],\n",
              "      dtype=object)"
            ]
          },
          "execution_count": 20,
          "metadata": {},
          "output_type": "execute_result"
        }
      ],
      "source": [
        "df[\"ROOM_ESTIMATE\"].unique()"
      ]
    },
    {
      "cell_type": "markdown",
      "metadata": {},
      "source": [
        "<small> The `ROOM_ESTIMATE_CLEANED` column replaces irregular or ambiguous room estimate entries with standardized numerical values. *Reasons: consistency and handling unknown values as NaN.*"
      ]
    },
    {
      "cell_type": "code",
      "execution_count": 21,
      "metadata": {},
      "outputs": [
        {
          "name": "stderr",
          "output_type": "stream",
          "text": [
            "/tmp/ipykernel_1687/3522324179.py:1: FutureWarning: Downcasting behavior in `replace` is deprecated and will be removed in a future version. To retain the old behavior, explicitly call `result.infer_objects(copy=False)`. To opt-in to the future behavior, set `pd.set_option('future.no_silent_downcasting', True)`\n",
            "  df['ROOM_ESTIMATE_CLEANED'] = df['ROOM_ESTIMATE'].replace({\n"
          ]
        }
      ],
      "source": [
        "df['ROOM_ESTIMATE_CLEANED'] = df['ROOM_ESTIMATE'].replace({\n",
        "    '180-200': 190,\n",
        "    '20*5*5': 500,\n",
        "    'approx 300': 300,\n",
        "    '300ish?': 300,\n",
        "    'Around 200': 200,\n",
        "    'Idk': np.nan\n",
        "})"
      ]
    },
    {
      "cell_type": "code",
      "execution_count": 22,
      "metadata": {},
      "outputs": [
        {
          "data": {
            "text/plain": [
              "array([ 4.000e+02,  3.210e+02,  2.000e+02,  3.500e+02,  5.000e+02,\n",
              "        4.670e+02,  2.500e+02,  3.450e+02,  3.000e+02,  1.000e+02,\n",
              "        5.500e+02,  1.900e+02,  4.560e+02,  4.870e+02,  4.900e+02,\n",
              "        4.500e+02,  6.000e+02,  3.200e+02,  1.500e+02,  3.750e+02,\n",
              "        1.870e+02,  8.000e+01,  2.200e+02,  4.300e+02,  3.800e+02,\n",
              "        5.000e+00,  3.300e+02,  3.850e+02,  3.900e+02,  1.950e+02,\n",
              "        2.340e+02,  4.800e+02,  2.910e+02,  4.200e+02,  2.890e+02,\n",
              "        7.000e+04,  4.250e+02,  2.870e+02,  4.830e+02,  2.400e+02,\n",
              "        3.570e+02,  2.970e+02,  3.660e+02,  1.230e+02,  1.250e+02,\n",
              "        3.780e+02,  2.800e+02,  2.300e+02,  1.180e+02,        nan,\n",
              "        4.600e+02,  3.400e+02,  3.840e+02,  9.000e+03,  3.110e+02,\n",
              "        2.530e+02, -9.999e+03,  1.800e+02,  4.580e+02,  2.100e+02,\n",
              "        1.000e+04,  3.870e+02,  5.200e+02, -3.000e+00, -1.000e+00])"
            ]
          },
          "execution_count": 22,
          "metadata": {},
          "output_type": "execute_result"
        }
      ],
      "source": [
        "df[\"ROOM_ESTIMATE_CLEANED\"].unique()"
      ]
    },
    {
      "cell_type": "markdown",
      "metadata": {},
      "source": [
        "PROBLEM:"
      ]
    },
    {
      "cell_type": "markdown",
      "metadata": {},
      "source": [
        "<small> There are still negative values or extreme over-estimations present, which will need further attention to avoid skewing analysis."
      ]
    },
    {
      "cell_type": "markdown",
      "metadata": {},
      "source": [
        "##### Step 6: stress level"
      ]
    },
    {
      "cell_type": "code",
      "execution_count": 23,
      "metadata": {},
      "outputs": [
        {
          "data": {
            "text/plain": [
              "array([78, 1000, 101, 60, 50, 99.7, 30, 70, 100, 20, 5, 8, 9999, 15, 75,\n",
              "       100000000000000, 2, 3, 55, 80, 10, 45, 89, 0, 49, 72, 6, 13, 11,\n",
              "       35, 66, 90, 40, 65, 200, 42, 99999, 47, 37, 'Over 9000', 79,\n",
              "       '42.0', 85, 25, 110, 900, 22, 23, 67, 1, 69, 'π©', 7, 57, -10, 99,\n",
              "       24, 87, -10000, 58, 23.23, 98, -1, 'Now? 22', 77, nan, 63, 61, 33,\n",
              "       'I BELIEVE I CAN FLY', '2147483649999999999'], dtype=object)"
            ]
          },
          "execution_count": 23,
          "metadata": {},
          "output_type": "execute_result"
        }
      ],
      "source": [
        "df[\"STRESS_LEVEL\"].unique()"
      ]
    },
    {
      "cell_type": "markdown",
      "metadata": {},
      "source": [
        "<small> `STRESS_LEVEL` column contains the numbers students chose, just not numerical. There aren't a lot of these, so we map them into the right formatting. *NOTE: I assume 'I BELIEVE I CAN FLY' means stress level 0, but that might not be right.*"
      ]
    },
    {
      "cell_type": "code",
      "execution_count": 36,
      "metadata": {},
      "outputs": [],
      "source": [
        "# Mapping non-numerical entries that contain numerical answers\n",
        "stress_level_mapping = {\n",
        "    'π©': 3.14,  \n",
        "    'Over 9000': 9000,  \n",
        "    '42.0': 42,  \n",
        "    'Now? 22': 22,  \n",
        "    'I BELIEVE I CAN FLY': 0,\n",
        "}\n",
        "\n",
        "\n",
        "def clean_stress_level(value):\n",
        "    # if in dictionary, return the mapped value\n",
        "    if value in stress_level_mapping:\n",
        "        return stress_level_mapping[value]\n",
        "    # otherwise return the original value\n",
        "    return value\n",
        "\n",
        "# Apply the cleaning\n",
        "df['STRESS_LEVEL_CLEANED'] = df['STRESS_LEVEL'].apply(clean_stress_level)\n"
      ]
    },
    {
      "cell_type": "code",
      "execution_count": 37,
      "metadata": {},
      "outputs": [
        {
          "data": {
            "text/plain": [
              "array([78, 1000, 101, 60, 50, 99.7, 30, 70, 100, 20, 5, 8, 9999, 15, 75,\n",
              "       100000000000000, 2, 3, 55, 80, 10, 45, 89, 0, 49, 72, 6, 13, 11,\n",
              "       35, 66, 90, 40, 65, 200, 42, 99999, 47, 37, 9000, 79, 85, 25, 110,\n",
              "       900, 22, 23, 67, 1, 69, 3.14, 7, 57, -10, 99, 24, 87, -10000, 58,\n",
              "       23.23, 98, -1, 77, nan, 63, 61, 33, '2147483649999999999'],\n",
              "      dtype=object)"
            ]
          },
          "execution_count": 37,
          "metadata": {},
          "output_type": "execute_result"
        }
      ],
      "source": [
        "df['STRESS_LEVEL_CLEANED'].unique()"
      ]
    },
    {
      "cell_type": "markdown",
      "metadata": {},
      "source": [
        "<small> `STRESS_LEVEL` column contains one number that is written as a string."
      ]
    },
    {
      "cell_type": "code",
      "execution_count": 38,
      "metadata": {},
      "outputs": [],
      "source": [
        "# Convert to numeric values, coercing errors to NaN\n",
        "df['STRESS_LEVEL_CLEANED'] = pd.to_numeric(df['STRESS_LEVEL_CLEANED'], errors='coerce')"
      ]
    },
    {
      "cell_type": "markdown",
      "metadata": {},
      "source": [
        "<small> `STRESS_LEVEL` column contains numbers out of bound 0-100 so we map anything that's lower then 0 to 0 and anything higher than 100 to 100."
      ]
    },
    {
      "cell_type": "code",
      "execution_count": 39,
      "metadata": {},
      "outputs": [],
      "source": [
        "# Cap values at 100 and set values below 0 to 0\n",
        "df['STRESS_LEVEL_CLEANED'] = df['STRESS_LEVEL_CLEANED'].clip(lower=0, upper=100)"
      ]
    },
    {
      "cell_type": "code",
      "execution_count": 45,
      "metadata": {
        "colab": {
          "base_uri": "https://localhost:8080/",
          "height": 410
        },
        "id": "AbZvEFv4OrUG",
        "outputId": "2fc1c45d-9975-4425-b8e4-bfa30c171e61"
      },
      "outputs": [
        {
          "data": {
            "image/png": "[encoded data removed]",
            "text/plain": [
              "<Figure size 800x400 with 1 Axes>"
            ]
          },
          "metadata": {},
          "output_type": "display_data"
        }
      ],
      "source": [
        "# Plot the cleaned column\n",
        "plt.figure(figsize=(8,4))\n",
        "sns.histplot(df['STRESS_LEVEL_CLEANED'].dropna(), bins=20, kde=True)\n",
        "plt.title(\"Stress Level Distribution (Cleaned)\")\n",
        "plt.xlabel(\"Stress Level\")\n",
        "plt.ylabel(\"Frequency\")\n",
        "plt.show()\n"
      ]
    },
    {
      "cell_type": "code",
      "execution_count": 44,
      "metadata": {},
      "outputs": [
        {
          "data": {
            "text/plain": [
              "1"
            ]
          },
          "execution_count": 44,
          "metadata": {},
          "output_type": "execute_result"
        }
      ],
      "source": [
        "df['STRESS_LEVEL_CLEANED'].isna().sum()"
      ]
    },
    {
      "cell_type": "code",
      "execution_count": 35,
      "metadata": {},
      "outputs": [
        {
          "data": {
            "text/plain": [
              "STRESS_LEVEL_CLEANED\n",
              "100.00    28\n",
              "20.00     19\n",
              "40.00     19\n",
              "30.00     17\n",
              "60.00     16\n",
              "0.00      12\n",
              "50.00     11\n",
              "70.00     10\n",
              "10.00      9\n",
              "75.00      8\n",
              "15.00      8\n",
              "65.00      6\n",
              "69.00      6\n",
              "5.00       5\n",
              "80.00      5\n",
              "25.00      4\n",
              "2.00       4\n",
              "85.00      3\n",
              "45.00      3\n",
              "55.00      3\n",
              "35.00      3\n",
              "8.00       3\n",
              "22.00      2\n",
              "90.00      2\n",
              "42.00      2\n",
              "47.00      2\n",
              "23.00      2\n",
              "58.00      2\n",
              "11.00      2\n",
              "13.00      2\n",
              "99.00      2\n",
              "6.00       2\n",
              "72.00      1\n",
              "49.00      1\n",
              "78.00      1\n",
              "99.70      1\n",
              "89.00      1\n",
              "3.00       1\n",
              "37.00      1\n",
              "79.00      1\n",
              "66.00      1\n",
              "1.00       1\n",
              "3.14       1\n",
              "7.00       1\n",
              "57.00      1\n",
              "67.00      1\n",
              "24.00      1\n",
              "87.00      1\n",
              "23.23      1\n",
              "98.00      1\n",
              "77.00      1\n",
              "63.00      1\n",
              "61.00      1\n",
              "33.00      1\n",
              "Name: count, dtype: int64"
            ]
          },
          "execution_count": 35,
          "metadata": {},
          "output_type": "execute_result"
        }
      ],
      "source": [
        "df['STRESS_LEVEL_CLEANED'].value_counts()"
      ]
    },
    {
      "cell_type": "markdown",
      "metadata": {},
      "source": [
        "#### Step 7: sports hours"
      ]
    },
    {
      "cell_type": "code",
      "execution_count": 128,
      "metadata": {},
      "outputs": [
        {
          "data": {
            "text/plain": [
              "array([0, 2, 4, 6, 8, 1, 3, 4.5, 7, 10, 12, '4-5', 9, 5, 69, 15, 20, 23,\n",
              "       168, '4.5', '2h', '0😭😭😭', 'zero', '3-4', 16, 14, 200, 11, 4.6,\n",
              "       '4.5 hours', 13, '&&&&', 2149483649], dtype=object)"
            ]
          },
          "execution_count": 128,
          "metadata": {},
          "output_type": "execute_result"
        }
      ],
      "source": [
        "df[\"SPORTS_HOURS\"].unique()"
      ]
    },
    {
      "cell_type": "markdown",
      "metadata": {},
      "source": [
        "<small> **Mapping known values:**\n",
        "- mapping specific, inconsistent entries in the `SPORTS_HOURS` column to cleaner and standardized numeric values. For example, '4-5' becomes 4.5 (average of 4 and 5), '2h' becomes 2, and 'zero' or '0😭😭😭' becomes 0\n",
        "- the column is converted to numeric values using `pd.to_numeric()` to handle any remaining non-numeric entries\n"
      ]
    },
    {
      "cell_type": "code",
      "execution_count": 129,
      "metadata": {},
      "outputs": [
        {
          "name": "stderr",
          "output_type": "stream",
          "text": [
            "/tmp/ipykernel_1608/1319620069.py:14: FutureWarning: Downcasting behavior in `replace` is deprecated and will be removed in a future version. To retain the old behavior, explicitly call `result.infer_objects(copy=False)`. To opt-in to the future behavior, set `pd.set_option('future.no_silent_downcasting', True)`\n",
            "  df['SPORTS_HOURS_CLEANED'] = df['SPORTS_HOURS'].replace(replace_map)\n"
          ]
        }
      ],
      "source": [
        "# Mapping specific known values to cleaned versions\n",
        "replace_map = {\n",
        "    '4-5': 4.5, # Average of 4 and 5\n",
        "    'zero': 0,\n",
        "    '0😭😭😭': 0,\n",
        "    '2h': 2,\n",
        "    '4.5 hours': 4.5,\n",
        "    '4.5': 4.5,\n",
        "    '3-4': 3.5,  # Average of 3 and 4\n",
        "    '&&&&': np.nan,  # Replace unrecognizable characters with NaN\n",
        "}\n",
        "\n",
        "# replace the values in 'SPORTS_HOURS' column\n",
        "df['SPORTS_HOURS_CLEANED'] = df['SPORTS_HOURS'].replace(replace_map)\n",
        "\n",
        "# convert values to float\n",
        "df['SPORTS_HOURS_CLEANED'] = pd.to_numeric(df['SPORTS_HOURS_CLEANED'], errors='coerce')"
      ]
    },
    {
      "cell_type": "markdown",
      "metadata": {},
      "source": [
        "<small> **Handling unreasonable values:**\n",
        "   - A threshold of 60 hours per week is applied, as anything beyond this is considered an unrealistic entry. Any values greater than 60 are replaced with `NaN` to avoid distortions for now"
      ]
    },
    {
      "cell_type": "code",
      "execution_count": 132,
      "metadata": {},
      "outputs": [],
      "source": [
        "# the threshold for maximum possible exercise hours per week\n",
        "max_exercise_hours = 60\n",
        "\n",
        "# replace values greater than max_exercise_hours with NaN\n",
        "df['SPORTS_HOURS_CLEANED'] = df['SPORTS_HOURS_CLEANED'].apply(\n",
        "    lambda x: np.nan if x > max_exercise_hours else x\n",
        ")"
      ]
    },
    {
      "cell_type": "code",
      "execution_count": 133,
      "metadata": {},
      "outputs": [
        {
          "data": {
            "text/plain": [
              "array([ 0. ,  2. ,  4. ,  6. ,  8. ,  1. ,  3. ,  4.5,  7. , 10. , 12. ,\n",
              "        9. ,  5. ,  nan, 15. , 20. , 23. ,  3.5, 16. , 14. , 11. ,  4.6,\n",
              "       13. ])"
            ]
          },
          "execution_count": 133,
          "metadata": {},
          "output_type": "execute_result"
        }
      ],
      "source": [
        "df['SPORTS_HOURS_CLEANED'].unique()"
      ]
    },
    {
      "cell_type": "code",
      "execution_count": 137,
      "metadata": {},
      "outputs": [
        {
          "data": {
            "image/png": "[encoded data removed]",
            "text/plain": [
              "<Figure size 1000x600 with 1 Axes>"
            ]
          },
          "metadata": {},
          "output_type": "display_data"
        }
      ],
      "source": [
        "# Set the Seaborn style\n",
        "sns.set(style=\"whitegrid\")\n",
        "\n",
        "# Plotting the distribution of cleaned sports hours\n",
        "plt.figure(figsize=(10, 6))\n",
        "sns.histplot(df['SPORTS_HOURS_CLEANED'], kde=True, color=\"blue\", bins=20)  # kde=True adds a density curve\n",
        "plt.title(\"Distribution of Sports Hours (Cleaned)\", fontsize=16)\n",
        "plt.xlabel(\"Sports Hours\", fontsize=12)\n",
        "plt.ylabel(\"Frequency\", fontsize=12)\n",
        "plt.show()\n"
      ]
    },
    {
      "cell_type": "markdown",
      "metadata": {},
      "source": [
        "##### Step 9: random numbers"
      ]
    },
    {
      "cell_type": "code",
      "execution_count": 139,
      "metadata": {},
      "outputs": [
        {
          "data": {
            "text/plain": [
              "array([928393, 31416, 5, 37, 1, 0, 4, 6656678, 888, '420420420420420420',\n",
              "       3, 538299189101, 1984, 72, 7, 94, 13, 28, 9, 8, 6372, 27, 9999, 78,\n",
              "       38, 19, 777, 74, 99, 25, 108, 4738, 11011011, 87, 39,\n",
              "       '77945354356758979022123', 1934, 69420, 14, 69, 420, 66,\n",
              "       '199389299284884742829r7747r8e9w929e94747uch38838udud8388383838e8e8e8e8e8e8d8du8s888x8d88d8u',\n",
              "       '2324234234234432434', 73, -1, 358, 42, 61, 6969696, 95836,\n",
              "       'Random', 12, 47, 89, 4141, 15, 6, 168, 5347833, 7777, 77, 30, 10,\n",
              "       197367, 40, 11, 9581995819194, 89867, 658, 236, 1738,\n",
              "       '184365902143674301', 33, 64, 314159265359, 44, 426, 891230124,\n",
              "       124, 9999999999, 67, 23, 'Ø', 81, 3737,\n",
              "       '245819732157863251872726618812736168172715169485342146436918753',\n",
              "       'cleanMe12', 18282, 17, 75, 46789901874822496, 31,\n",
              "       'achtduizendvierhonderdvijfendertig komma zesenvijftig',\n",
              "       173425111379664, 271828, 21, 1672, 823, 51, 8473, '27.4', 22,\n",
              "       55678686, 90, '858282281825663728188', 76, '00', 158,\n",
              "       '10107472946391947974729472910472918462917472927492746291047272947263902716549294746829294739194737292847292748202747204726294',\n",
              "       '“-69420”', 39587, 35, 60000000, 18, '3891736819378483829191037',\n",
              "       93, 88, 576434680087, 35723490856, 2,\n",
              "       '257261814499261618384638281776364', 1683, 137, 2147483649, 57,\n",
              "       4678, 52739, 573, 1999, '1 000 000', 3748, 2115, 9277466, 947362,\n",
              "       123, 19898901, 3951, '😅', 56,\n",
              "       '999999999999999999999889988888888877777888999999999999988888889999999999999999999998899888888888777778889999999999999888888899999999999999999999988998888888887777788899999999999998888888'],\n",
              "      dtype=object)"
            ]
          },
          "execution_count": 139,
          "metadata": {},
          "output_type": "execute_result"
        }
      ],
      "source": [
        "df[\"RANDOM_NUMBER\"].unique()"
      ]
    },
    {
      "cell_type": "markdown",
      "metadata": {},
      "source": [
        "<small> \n",
        "\n",
        "- **Mapping Specific Known Values:**  \n",
        "  Specific, known values are mapped to clean numeric equivalents or `NaN`. For example, `‘cleanMe12’` becomes 12, and strings like `‘Ø’` or `‘Random’` or the emoji (such as `‘😅’`) are replaced with `NaN`.\n",
        "\n",
        "- **Converting Strings to Numeric Values:**  \n",
        "  The function attempts to convert any string representation of numbers (like `‘-69420’`) into actual numeric values.\n"
      ]
    },
    {
      "cell_type": "code",
      "execution_count": 140,
      "metadata": {},
      "outputs": [],
      "source": [
        "def clean_random_number(value):\n",
        "    # Define the specific mappings\n",
        "    mappings = {\n",
        "        'Random': np.nan,\n",
        "        'cleanMe12': 12,\n",
        "        'achtduizendvierhonderdvijfendertig komma zesenvijftig': 8435.56,\n",
        "        'Ø': np.nan,\n",
        "        '“-69420”': -69420,\n",
        "        '199389299284884742829r7747r8e9w929e94747uch38838udud8388383838e8e8e8e8e8e8d8du8s888x8d88d8u': np.nan\n",
        "    }\n",
        "    \n",
        "    # check if it's an emoji\n",
        "    if isinstance(value, str) and re.match(r'\\U0001F605', value):  # Checks for '😅' emoji\n",
        "        return np.nan\n",
        "    \n",
        "    # the value is in the mapping\n",
        "    if value in mappings:\n",
        "        return mappings[value]\n",
        "    \n",
        "    # numeric strings and other cases\n",
        "    try:\n",
        "        # convert to a number if possible (this will handle things like \"-69420\")\n",
        "        return float(value)\n",
        "    except ValueError:\n",
        "        return value\n",
        "\n",
        "# Apply the cleaning function to the column\n",
        "df['RANDOM_NUMBER_CLEANED'] = df['RANDOM_NUMBER'].apply(clean_random_number)"
      ]
    },
    {
      "cell_type": "code",
      "execution_count": 141,
      "metadata": {},
      "outputs": [
        {
          "data": {
            "text/plain": [
              "array([928393.0, 31416.0, 5.0, 37.0, 1.0, 0.0, 4.0, 6656678.0, 888.0,\n",
              "       4.204204204204204e+17, 3.0, 538299189101.0, 1984.0, 72.0, 7.0,\n",
              "       94.0, 13.0, 28.0, 9.0, 8.0, 6372.0, 27.0, 9999.0, 78.0, 38.0, 19.0,\n",
              "       777.0, 74.0, 99.0, 25.0, 108.0, 4738.0, 11011011.0, 87.0, 39.0,\n",
              "       7.794535435675898e+22, 1934.0, 69420.0, 14.0, 69.0, 420.0, 66.0,\n",
              "       nan, 2.3242342342344325e+18, 73.0, -1.0, 358.0, 42.0, 61.0,\n",
              "       6969696.0, 95836.0, 12.0, 47.0, 89.0, 4141.0, 15.0, 6.0, 168.0,\n",
              "       5347833.0, 7777.0, 77.0, 30.0, 10.0, 197367.0, 40.0, 11.0,\n",
              "       9581995819194.0, 89867.0, 658.0, 236.0, 1738.0,\n",
              "       1.843659021436743e+17, 33.0, 64.0, 314159265359.0, 44.0, 426.0,\n",
              "       891230124.0, 124.0, 9999999999.0, 67.0, 23.0, 81.0, 3737.0,\n",
              "       2.4581973215786324e+62, 18282.0, 17.0, 75.0, 4.67899018748225e+16,\n",
              "       31.0, 8435.56, 173425111379664.0, 271828.0, 21.0, 1672.0, 823.0,\n",
              "       51.0, 8473.0, 27.4, 22.0, 55678686.0, 90.0, 8.582822818256637e+20,\n",
              "       76.0, 158.0, 1.0107472946391948e+124, -69420, 39587.0, 35.0,\n",
              "       60000000.0, 18.0, 3.891736819378484e+24, 93.0, 88.0,\n",
              "       576434680087.0, 35723490856.0, 2.0, 2.5726181449926163e+32, 1683.0,\n",
              "       137.0, 2147483649.0, 57.0, 4678.0, 52739.0, 573.0, 1999.0,\n",
              "       '1 000 000', 3748.0, 2115.0, 9277466.0, 947362.0, 123.0,\n",
              "       19898901.0, 3951.0, 56.0, 1e+186], dtype=object)"
            ]
          },
          "execution_count": 141,
          "metadata": {},
          "output_type": "execute_result"
        }
      ],
      "source": [
        "df[\"RANDOM_NUMBER_CLEANED\"].unique()"
      ]
    },
    {
      "cell_type": "code",
      "execution_count": 143,
      "metadata": {},
      "outputs": [
        {
          "data": {
            "text/html": [
              "<div>\n",
              "<style scoped>\n",
              "    .dataframe tbody tr th:only-of-type {\n",
              "        vertical-align: middle;\n",
              "    }\n",
              "\n",
              "    .dataframe tbody tr th {\n",
              "        vertical-align: top;\n",
              "    }\n",
              "\n",
              "    .dataframe thead th {\n",
              "        text-align: right;\n",
              "    }\n",
              "</style>\n",
              "<table border=\"1\" class=\"dataframe\">\n",
              "  <thead>\n",
              "    <tr style=\"text-align: right;\">\n",
              "      <th></th>\n",
              "      <th>TIMESTAMP</th>\n",
              "      <th>PROGRAM</th>\n",
              "      <th>ML_COURSE</th>\n",
              "      <th>IR_COURSE</th>\n",
              "      <th>STAT_COURSE</th>\n",
              "      <th>DB_COURSE</th>\n",
              "      <th>GENDER</th>\n",
              "      <th>CHATGPT_USAGE</th>\n",
              "      <th>BIRTHDAY</th>\n",
              "      <th>ROOM_ESTIMATE</th>\n",
              "      <th>...</th>\n",
              "      <th>GOOD_DAY_2</th>\n",
              "      <th>ML_COURSE_NUM</th>\n",
              "      <th>IR_COURSE_NUM</th>\n",
              "      <th>DB_COURSE_NUM</th>\n",
              "      <th>CHATGPT_USAGE_NUM</th>\n",
              "      <th>GENDER_CATEGORIZED</th>\n",
              "      <th>ROOM_ESTIMATE_CLEANED</th>\n",
              "      <th>STRESS_LEVEL_CLEANED</th>\n",
              "      <th>SPORTS_HOURS_CLEANED</th>\n",
              "      <th>RANDOM_NUMBER_CLEANED</th>\n",
              "    </tr>\n",
              "  </thead>\n",
              "  <tbody>\n",
              "    <tr>\n",
              "      <th>0</th>\n",
              "      <td>2025-04-01 12:17:06.560</td>\n",
              "      <td>Artificial Intelligence</td>\n",
              "      <td>yes</td>\n",
              "      <td>unknown</td>\n",
              "      <td>mu</td>\n",
              "      <td>ja</td>\n",
              "      <td>male</td>\n",
              "      <td>yes</td>\n",
              "      <td>01-01-1888</td>\n",
              "      <td>400</td>\n",
              "      <td>...</td>\n",
              "      <td>Travel</td>\n",
              "      <td>1</td>\n",
              "      <td>&lt;NA&gt;</td>\n",
              "      <td>1</td>\n",
              "      <td>1</td>\n",
              "      <td>male</td>\n",
              "      <td>400.0</td>\n",
              "      <td>78.0</td>\n",
              "      <td>0.0</td>\n",
              "      <td>928393.0</td>\n",
              "    </tr>\n",
              "    <tr>\n",
              "      <th>1</th>\n",
              "      <td>2025-04-01 12:17:14.118</td>\n",
              "      <td>Artificial Intelligence</td>\n",
              "      <td>yes</td>\n",
              "      <td>1</td>\n",
              "      <td>sigma</td>\n",
              "      <td>ja</td>\n",
              "      <td>female</td>\n",
              "      <td>yes</td>\n",
              "      <td>31/01/2002</td>\n",
              "      <td>321</td>\n",
              "      <td>...</td>\n",
              "      <td>coffee</td>\n",
              "      <td>1</td>\n",
              "      <td>1</td>\n",
              "      <td>1</td>\n",
              "      <td>1</td>\n",
              "      <td>female</td>\n",
              "      <td>321.0</td>\n",
              "      <td>100.0</td>\n",
              "      <td>2.0</td>\n",
              "      <td>31416.0</td>\n",
              "    </tr>\n",
              "    <tr>\n",
              "      <th>2</th>\n",
              "      <td>2025-04-01 12:17:16.917</td>\n",
              "      <td>Econometrics and Operations Research</td>\n",
              "      <td>yes</td>\n",
              "      <td>1</td>\n",
              "      <td>mu</td>\n",
              "      <td>ja</td>\n",
              "      <td>male</td>\n",
              "      <td>not willing to say</td>\n",
              "      <td>September</td>\n",
              "      <td>200</td>\n",
              "      <td>...</td>\n",
              "      <td>Aperol</td>\n",
              "      <td>1</td>\n",
              "      <td>1</td>\n",
              "      <td>1</td>\n",
              "      <td>&lt;NA&gt;</td>\n",
              "      <td>male</td>\n",
              "      <td>200.0</td>\n",
              "      <td>100.0</td>\n",
              "      <td>4.0</td>\n",
              "      <td>5.0</td>\n",
              "    </tr>\n",
              "    <tr>\n",
              "      <th>3</th>\n",
              "      <td>2025-04-01 12:17:20.718</td>\n",
              "      <td>Econometrics and Operations Research</td>\n",
              "      <td>yes</td>\n",
              "      <td>0</td>\n",
              "      <td>mu</td>\n",
              "      <td>nee</td>\n",
              "      <td>male</td>\n",
              "      <td>yes</td>\n",
              "      <td>17/10/2003</td>\n",
              "      <td>350</td>\n",
              "      <td>...</td>\n",
              "      <td>Sun</td>\n",
              "      <td>1</td>\n",
              "      <td>0</td>\n",
              "      <td>0</td>\n",
              "      <td>1</td>\n",
              "      <td>male</td>\n",
              "      <td>350.0</td>\n",
              "      <td>60.0</td>\n",
              "      <td>6.0</td>\n",
              "      <td>37.0</td>\n",
              "    </tr>\n",
              "    <tr>\n",
              "      <th>4</th>\n",
              "      <td>2025-04-01 12:17:23.836</td>\n",
              "      <td>Bioinformatics and Systems Biology</td>\n",
              "      <td>yes</td>\n",
              "      <td>1</td>\n",
              "      <td>mu</td>\n",
              "      <td>ja</td>\n",
              "      <td>male</td>\n",
              "      <td>yes</td>\n",
              "      <td>19/04/2000</td>\n",
              "      <td>500</td>\n",
              "      <td>...</td>\n",
              "      <td>-</td>\n",
              "      <td>1</td>\n",
              "      <td>1</td>\n",
              "      <td>1</td>\n",
              "      <td>1</td>\n",
              "      <td>male</td>\n",
              "      <td>500.0</td>\n",
              "      <td>50.0</td>\n",
              "      <td>8.0</td>\n",
              "      <td>1.0</td>\n",
              "    </tr>\n",
              "  </tbody>\n",
              "</table>\n",
              "<p>5 rows × 25 columns</p>\n",
              "</div>"
            ],
            "text/plain": [
              "                TIMESTAMP                               PROGRAM ML_COURSE  \\\n",
              "0 2025-04-01 12:17:06.560               Artificial Intelligence       yes   \n",
              "1 2025-04-01 12:17:14.118               Artificial Intelligence       yes   \n",
              "2 2025-04-01 12:17:16.917  Econometrics and Operations Research       yes   \n",
              "3 2025-04-01 12:17:20.718  Econometrics and Operations Research       yes   \n",
              "4 2025-04-01 12:17:23.836    Bioinformatics and Systems Biology       yes   \n",
              "\n",
              "  IR_COURSE STAT_COURSE DB_COURSE  GENDER       CHATGPT_USAGE    BIRTHDAY  \\\n",
              "0   unknown          mu        ja    male                 yes  01-01-1888   \n",
              "1         1       sigma        ja  female                 yes  31/01/2002   \n",
              "2         1          mu        ja    male  not willing to say  September    \n",
              "3         0          mu       nee    male                 yes  17/10/2003   \n",
              "4         1          mu        ja    male                 yes  19/04/2000   \n",
              "\n",
              "  ROOM_ESTIMATE  ... GOOD_DAY_2 ML_COURSE_NUM IR_COURSE_NUM DB_COURSE_NUM  \\\n",
              "0           400  ...     Travel             1          <NA>             1   \n",
              "1           321  ...     coffee             1             1             1   \n",
              "2           200  ...     Aperol             1             1             1   \n",
              "3           350  ...        Sun             1             0             0   \n",
              "4           500  ...          -             1             1             1   \n",
              "\n",
              "  CHATGPT_USAGE_NUM GENDER_CATEGORIZED  ROOM_ESTIMATE_CLEANED  \\\n",
              "0                 1               male                  400.0   \n",
              "1                 1             female                  321.0   \n",
              "2              <NA>               male                  200.0   \n",
              "3                 1               male                  350.0   \n",
              "4                 1               male                  500.0   \n",
              "\n",
              "   STRESS_LEVEL_CLEANED  SPORTS_HOURS_CLEANED  RANDOM_NUMBER_CLEANED  \n",
              "0                  78.0                   0.0               928393.0  \n",
              "1                 100.0                   2.0                31416.0  \n",
              "2                 100.0                   4.0                    5.0  \n",
              "3                  60.0                   6.0                   37.0  \n",
              "4                  50.0                   8.0                    1.0  \n",
              "\n",
              "[5 rows x 25 columns]"
            ]
          },
          "execution_count": 143,
          "metadata": {},
          "output_type": "execute_result"
        }
      ],
      "source": [
        "df.head()"
      ]
    },
    {
      "cell_type": "code",
      "execution_count": 1,
      "metadata": {},
      "outputs": [
        {
          "ename": "NameError",
          "evalue": "name 'df' is not defined",
          "output_type": "error",
          "traceback": [
            "\u001b[0;31m---------------------------------------------------------------------------\u001b[0m",
            "\u001b[0;31mNameError\u001b[0m                                 Traceback (most recent call last)",
            "Cell \u001b[0;32mIn[1], line 2\u001b[0m\n\u001b[1;32m      1\u001b[0m \u001b[38;5;66;03m# Export the DataFrame to a CSV file\u001b[39;00m\n\u001b[0;32m----> 2\u001b[0m \u001b[43mdf\u001b[49m\u001b[38;5;241m.\u001b[39mto_csv(\u001b[38;5;124m'\u001b[39m\u001b[38;5;124mcleaned_data.csv\u001b[39m\u001b[38;5;124m'\u001b[39m, index\u001b[38;5;241m=\u001b[39m\u001b[38;5;28;01mFalse\u001b[39;00m)\n",
            "\u001b[0;31mNameError\u001b[0m: name 'df' is not defined"
          ]
        }
      ],
      "source": [
        "# Export the DataFrame to a CSV file\n",
        "df.to_csv('cleaned_data.csv', index=False)"
      ]
    },
    {
      "cell_type": "markdown",
      "metadata": {},
      "source": [
        "##### Step 10: date"
      ]
    },
    {
      "cell_type": "code",
      "execution_count": null,
      "metadata": {},
      "outputs": [
        {
          "name": "stdout",
          "output_type": "stream",
          "text": [
            "             BEDTIME STANDARDIZED_BEDTIME\n",
            "0              00:00                00:00\n",
            "1              12:30                12:30\n",
            "2               0:30                00:30\n",
            "3              23:00                23:00\n",
            "4                 12                12:00\n",
            "5                5am                05:00\n",
            "6              12:00                12:00\n",
            "7               12am                00:00\n",
            "8              10:37                10:37\n",
            "9               0200                02:00\n",
            "10             11 pm                23:00\n",
            "11             00:00                00:00\n",
            "12             23h45                23:45\n",
            "13              9 am                09:00\n",
            "14                 9                09:00\n",
            "15              2 am                02:00\n",
            "16             01.00                01:00\n",
            "17             23.30                23:30\n",
            "18             23:16                23:16\n",
            "19                 2                02:00\n",
            "20              1:00                01:00\n",
            "21             23.00                23:00\n",
            "22              1 am                01:00\n",
            "23          12:30 PM                12:30\n",
            "24             23:30                23:30\n",
            "25             00:30                00:30\n",
            "26              0.30                 <NA>\n",
            "27                 2                02:00\n",
            "28           1:00 am                01:00\n",
            "29                12                12:00\n",
            "30             12:00                12:00\n",
            "31             23:57                23:57\n",
            "32             05:00                05:00\n",
            "33                12                12:00\n",
            "34             23:30                23:30\n",
            "35              4:00                04:00\n",
            "36             22:30                22:30\n",
            "37             00:45                00:45\n",
            "38             00:30                00:30\n",
            "39             01:30                01:30\n",
            "40             00:30                00:30\n",
            "41             23:30                23:30\n",
            "42                12                12:00\n",
            "43             23:40                23:40\n",
            "44                 3                03:00\n",
            "45               2am                02:00\n",
            "46               1am                01:00\n",
            "47              2:00                02:00\n",
            "48             23:59                23:59\n",
            "49                12                12:00\n",
            "50             00:00                00:00\n",
            "51             01:00                01:00\n",
            "52             04:00                04:00\n",
            "53               2am                02:00\n",
            "54             23-00                23:00\n",
            "55             00:00                00:00\n",
            "56               4am                04:00\n",
            "57             01.00                01:00\n",
            "58             00.30                00:30\n",
            "59              2.30                 <NA>\n",
            "60               1am                01:00\n",
            "61              1 AM                01:00\n",
            "62          12:00 pm                12:00\n",
            "63             23:30                23:30\n",
            "64             22.00                22:00\n",
            "65                 5                05:00\n",
            "66                11                11:00\n",
            "67           12:30am                00:30\n",
            "68             23:00                23:00\n",
            "69                 2                02:00\n",
            "70             00:30                00:30\n",
            "71             23:00                23:00\n",
            "72             23:00                23:00\n",
            "73              2300                23:00\n",
            "74              2 pm                14:00\n",
            "75                23                23:00\n",
            "76             23:00                23:00\n",
            "77             23:55                23:55\n",
            "78             23:45                23:45\n",
            "79               2am                02:00\n",
            "80            1:30am                01:30\n",
            "81              0:30                00:30\n",
            "82             00:00                00:00\n",
            "83               1am                01:00\n",
            "84                12                12:00\n",
            "85             12:34                12:34\n",
            "86                 1                01:00\n",
            "87             23:30                23:30\n",
            "88               5am                05:00\n",
            "89                 1                01:00\n",
            "90              2 am                02:00\n",
            "91             00:40                00:40\n",
            "92              1:30                01:30\n",
            "93             12:45                12:45\n",
            "94             11:35                11:35\n",
            "95              1:00                01:00\n",
            "96             01:30                01:30\n",
            "97             23:25                23:25\n",
            "98             21:45                21:45\n",
            "99             23:00                23:00\n",
            "100            23:00                23:00\n",
            "101             0:30                00:30\n",
            "102            23:00                23:00\n",
            "103            23:30                23:30\n",
            "104              7pm                19:00\n",
            "105         11:33 PM                23:33\n",
            "106               12                12:00\n",
            "107                2                02:00\n",
            "108            23:00                23:00\n",
            "109            22:40                22:40\n",
            "110            23:00                23:00\n",
            "111            00:30                00:30\n",
            "112              4am                04:00\n",
            "113             1:00                01:00\n",
            "114         Midnight                00:00\n",
            "115              3AM                03:00\n",
            "116            23:00                23:00\n",
            "117            23:30                23:30\n",
            "118            03:00                03:00\n",
            "119              3am                03:00\n",
            "120            01:23                01:23\n",
            "121             2300                23:00\n",
            "122                8                08:00\n",
            "123            01:30                01:30\n",
            "124               23                23:00\n",
            "125            23:30                23:30\n",
            "126            00:31                00:31\n",
            "127              2am                02:00\n",
            "128            00:40                00:40\n",
            "129            00:30                00:30\n",
            "130                2                02:00\n",
            "131             3:54                03:54\n",
            "132          3 AM x)                03:00\n",
            "133                1                01:00\n",
            "134            23:00                23:00\n",
            "135            02:00                02:00\n",
            "136              4am                04:00\n",
            "137          11:30pm                23:30\n",
            "138               12                12:00\n",
            "139              5am                05:00\n",
            "140            23:30                23:30\n",
            "141             1:30                01:30\n",
            "142            22:00                22:00\n",
            "143            00:30                00:30\n",
            "144           5:00am                05:00\n",
            "145            22:00                22:00\n",
            "146            12:30                12:30\n",
            "147            12.30                12:30\n",
            "148            23:30                23:30\n",
            "149            23:30                23:30\n",
            "150  around midnight                00:00\n",
            "151            22:30                22:30\n",
            "152            23u30                23:30\n",
            "153            00:30                00:30\n",
            "154           1.22am                 <NA>\n",
            "155            01:00                01:00\n",
            "156              1am                01:00\n",
            "157            23.30                23:30\n",
            "158             0:00                00:00\n",
            "159            00:00                00:00\n",
            "160             2 am                02:00\n",
            "161            23:00                23:00\n",
            "162            02:00                02:00\n",
            "163            23:00                23:00\n",
            "164            22:30                22:30\n",
            "165            22:30                22:30\n",
            "166             1 am                01:00\n",
            "167               12                12:00\n",
            "168            3:00                 03:00\n",
            "169            01:30                01:30\n",
            "170            00:30                00:30\n",
            "171              3am                03:00\n",
            "172                5                05:00\n",
            "173                1                01:00\n",
            "174            23:30                23:30\n",
            "175             3:00                03:00\n",
            "176            23:00                23:00\n",
            "177                4                04:00\n",
            "178            01:00                01:00\n",
            "179                1                01:00\n",
            "180            22:30                22:30\n",
            "181            12:30                12:30\n",
            "182            23:00                23:00\n",
            "183             2 am                02:00\n",
            "184              2am                02:00\n",
            "185            02:00                02:00\n",
            "186            1:03                 01:03\n",
            "187            23:30                23:30\n",
            "188            00:10                00:10\n",
            "189             1:37                01:37\n",
            "190            22:00                22:00\n",
            "191            00:00                00:00\n",
            "192            11:00                11:00\n",
            "193            12.00                12:00\n",
            "194         00:30 AM                 <NA>\n",
            "195            23:00                23:00\n",
            "196            00.15                00:15\n",
            "197            00:30                00:30\n",
            "198            23:30                23:30\n",
            "199             1:30                01:30\n",
            "200            11:34                11:34\n",
            "201             5 AM                05:00\n",
            "202             3:00                03:00\n",
            "203            01:00                01:00\n",
            "204            23:30                23:30\n",
            "205            00:33                00:33\n",
            "206            22:30                22:30\n",
            "207          11:30pm                23:30\n",
            "208            00:15                00:15\n",
            "209           1:30am                01:30\n",
            "210            01:00                01:00\n",
            "211                1                01:00\n",
            "212             4:30                04:30\n",
            "213            05:00                05:00\n",
            "214            02:00                02:00\n",
            "215            23:45                23:45\n",
            "216            22:45                22:45\n",
            "217             4:00                04:00\n",
            "218              1am                01:00\n",
            "219             1 AM                01:00\n",
            "220             9:30                09:30\n",
            "221            23:15                23:15\n",
            "222             2:00                02:00\n",
            "223          12:30am                00:30\n",
            "224            02:15                02:15\n",
            "225            01:00                01:00\n",
            "226                1                01:00\n",
            "227            00:00                00:00\n",
            "228            00:10                00:10\n",
            "229            00:30                00:30\n",
            "230            21.30                21:30\n",
            "231          12.30am                 <NA>\n",
            "232            23:00                23:00\n",
            "233            21:30                21:30\n",
            "234            23:30                23:30\n",
            "235               10                10:00\n",
            "236              1am                01:00\n",
            "237            00:54                00:54\n",
            "238             4:00                04:00\n",
            "239       1743502757                 <NA>\n",
            "240             1:30                01:30\n",
            "241              2am                02:00\n",
            "242            23.30                23:30\n",
            "243            02:00                02:00\n"
          ]
        }
      ],
      "source": [
        "# Enhanced function to handle edge cases\n",
        "def standardize_time_v2(time_str):\n",
        "    time_str = str(time_str).strip().lower()\n",
        "\n",
        "    # Handle \"Midnight\" and \"Noon\"\n",
        "    if \"midnight\" in time_str:\n",
        "        return '00:00'\n",
        "    if \"noon\" in time_str:\n",
        "        return '12:00'\n",
        "\n",
        "    # Remove unwanted characters like 'u' or 'h' (from '23u30' or '23h45')\n",
        "    time_str = re.sub(r'[^\\d:ampm]', '', time_str)\n",
        "\n",
        "    # Handle \"AM/PM\" format and convert to 24-hour format\n",
        "    if 'am' in time_str or 'pm' in time_str:\n",
        "        try:\n",
        "            time_obj = datetime.strptime(time_str, '%I:%M%p')\n",
        "            return time_obj.strftime('%H:%M')  # 24-hour format\n",
        "        except ValueError:\n",
        "            pass\n",
        "\n",
        "    # Handle formats like '1am', '5am', '2:30am', etc.\n",
        "    if re.match(r'^\\d{1,2}[apm]{2}$', time_str):\n",
        "        try:\n",
        "            time_obj = datetime.strptime(time_str, '%I%p')\n",
        "            return time_obj.strftime('%H:%M')\n",
        "        except ValueError:\n",
        "            pass\n",
        "\n",
        "    # Handle cases with '.' instead of ':' (e.g., 12.30, 23.30)\n",
        "    time_str = time_str.replace('.', ':')\n",
        "    \n",
        "    # Handle \"x\" suffix like '3 AM x)'\n",
        "    time_str = time_str.replace('x)', '')\n",
        "\n",
        "    # Handle military time (e.g., 2300, 1200) by assuming 4 digits\n",
        "    if len(time_str) == 4 and time_str.isdigit():\n",
        "        try:\n",
        "            time_obj = datetime.strptime(time_str, '%H%M')\n",
        "            return time_obj.strftime('%H:%M')\n",
        "        except ValueError:\n",
        "            pass\n",
        "\n",
        "    # Try parsing standard HH:MM format or simple hour format\n",
        "    try:\n",
        "        time_obj = datetime.strptime(time_str, '%H:%M')\n",
        "        return time_obj.strftime('%H:%M')\n",
        "    except ValueError:\n",
        "        pass\n",
        "\n",
        "    # Handle simple hour-only format (e.g., '12' or '1')\n",
        "    try:\n",
        "        time_obj = datetime.strptime(time_str, '%H')\n",
        "        return time_obj.strftime('%H:00')\n",
        "    except ValueError:\n",
        "        pass\n",
        "\n",
        "    # If it's not recognized, return NaN (or any default you want)\n",
        "    return pd.NA\n",
        "\n",
        "# Apply the updated function to the 'BEDTIME' column\n",
        "df['STANDARDIZED_BEDTIME'] = df['BEDTIME'].apply(standardize_time_v2)\n",
        "\n",
        "# Display the results\n",
        "print(df[['BEDTIME', 'STANDARDIZED_BEDTIME']])\n",
        "\n"
      ]
    },
    {
      "cell_type": "code",
      "execution_count": 83,
      "metadata": {
        "colab": {
          "base_uri": "https://localhost:8080/",
          "height": 1000
        },
        "id": "t_HP5j87MzDr",
        "outputId": "00d3c6f5-ff27-401c-c0ac-d29bb4631184"
      },
      "outputs": [
        {
          "name": "stdout",
          "output_type": "stream",
          "text": [
            "<class 'pandas.core.frame.DataFrame'>\n",
            "RangeIndex: 244 entries, 0 to 243\n",
            "Data columns (total 23 columns):\n",
            " #   Column                Non-Null Count  Dtype         \n",
            "---  ------                --------------  -----         \n",
            " 0   TIMESTAMP             244 non-null    datetime64[ns]\n",
            " 1   PROGRAM               244 non-null    object        \n",
            " 2   ML_COURSE             244 non-null    object        \n",
            " 3   IR_COURSE             244 non-null    object        \n",
            " 4   STAT_COURSE           244 non-null    object        \n",
            " 5   DB_COURSE             244 non-null    object        \n",
            " 6   GENDER                244 non-null    object        \n",
            " 7   CHATGPT_USAGE         244 non-null    object        \n",
            " 8   BIRTHDAY              243 non-null    object        \n",
            " 9   ROOM_ESTIMATE         244 non-null    object        \n",
            " 10  STRESS_LEVEL          243 non-null    object        \n",
            " 11  SPORTS_HOURS          244 non-null    object        \n",
            " 12  RANDOM_NUMBER         244 non-null    object        \n",
            " 13  BEDTIME               244 non-null    object        \n",
            " 14  GOOD_DAY_1            244 non-null    object        \n",
            " 15  GOOD_DAY_2            244 non-null    object        \n",
            " 16  ML_COURSE_NUM         243 non-null    Int64         \n",
            " 17  IR_COURSE_NUM         220 non-null    Int64         \n",
            " 18  DB_COURSE_NUM         236 non-null    Int64         \n",
            " 19  CHATGPT_USAGE_NUM     203 non-null    Int64         \n",
            " 20  GENDER_CATEGORIZED    244 non-null    object        \n",
            " 21  STRESS_LEVEL_CLEANED  243 non-null    float64       \n",
            " 22  SPORTS_HOURS_CLEANED  240 non-null    float64       \n",
            "dtypes: Int64(4), datetime64[ns](1), float64(2), object(16)\n",
            "memory usage: 44.9+ KB\n"
          ]
        },
        {
          "data": {
            "text/plain": [
              "TIMESTAMP                0\n",
              "PROGRAM                  0\n",
              "ML_COURSE                0\n",
              "IR_COURSE                0\n",
              "STAT_COURSE              0\n",
              "DB_COURSE                0\n",
              "GENDER                   0\n",
              "CHATGPT_USAGE            0\n",
              "BIRTHDAY                 1\n",
              "ROOM_ESTIMATE            0\n",
              "STRESS_LEVEL             1\n",
              "SPORTS_HOURS             0\n",
              "RANDOM_NUMBER            0\n",
              "BEDTIME                  0\n",
              "GOOD_DAY_1               0\n",
              "GOOD_DAY_2               0\n",
              "ML_COURSE_NUM            1\n",
              "IR_COURSE_NUM           24\n",
              "DB_COURSE_NUM            8\n",
              "CHATGPT_USAGE_NUM       41\n",
              "GENDER_CATEGORIZED       0\n",
              "STRESS_LEVEL_CLEANED     1\n",
              "SPORTS_HOURS_CLEANED     4\n",
              "dtype: int64"
            ]
          },
          "execution_count": 83,
          "metadata": {},
          "output_type": "execute_result"
        }
      ],
      "source": [
        "# Overview of data types and missing values\n",
        "df.info()\n",
        "df.isnull().sum()\n"
      ]
    },
    {
      "cell_type": "code",
      "execution_count": 68,
      "metadata": {
        "colab": {
          "base_uri": "https://localhost:8080/",
          "height": 410
        },
        "id": "wOoJ3_yQPFA3",
        "outputId": "c878ba55-8cb8-4d76-9951-3f4d93864e8d"
      },
      "outputs": [
        {
          "data": {
            "image/png": "[encoded data removed]",
            "text/plain": [
              "<Figure size 1200x400 with 1 Axes>"
            ]
          },
          "metadata": {},
          "output_type": "display_data"
        }
      ],
      "source": [
        "plt.figure(figsize=(12,4))\n",
        "sns.boxplot(data=df,\n",
        "            x='GENDER_CATEGORIZED',\n",
        "            y='SPORTS_HOURS_CLEANED')\n",
        "plt.title(\"Sports Hours by Gender\")\n",
        "plt.xlabel(\"Gender\")\n",
        "plt.ylabel(\"Sports Hours (cleaned)\")\n",
        "plt.show()\n"
      ]
    }
  ],
  "metadata": {
    "colab": {
      "authorship_tag": "ABX9TyOrOnZlYfjoHl1ilk6Wm24Z",
      "include_colab_link": true,
      "provenance": []
    },
    "kernelspec": {
      "display_name": "Python 3",
      "name": "python3"
    },
    "language_info": {
      "codemirror_mode": {
        "name": "ipython",
        "version": 3
      },
      "file_extension": ".py",
      "mimetype": "text/x-python",
      "name": "python",
      "nbconvert_exporter": "python",
      "pygments_lexer": "ipython3",
      "version": "3.10.12"
    }
  },
  "nbformat": 4,
  "nbformat_minor": 0
}
